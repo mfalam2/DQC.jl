{
 "cells": [
  {
   "cell_type": "code",
   "execution_count": 24,
   "id": "36252ecb",
   "metadata": {
    "ExecuteTime": {
     "end_time": "2024-06-07T18:28:57.608000-06:00",
     "start_time": "2024-06-08T00:28:57.514Z"
    }
   },
   "outputs": [
    {
     "data": {
      "text/plain": [
       "lre_mps"
      ]
     },
     "execution_count": 24,
     "metadata": {},
     "output_type": "execute_result"
    }
   ],
   "source": [
    "include(\"/Users/alamf/1Jupyter/current_projects/DQC.jl/src/measurements.jl\")\n",
    "include(\"/Users/alamf/1Jupyter/current_projects/DQC.jl/src/models.jl\")"
   ]
  },
  {
   "cell_type": "code",
   "execution_count": 25,
   "id": "171fdfe3",
   "metadata": {
    "ExecuteTime": {
     "end_time": "2024-06-07T18:29:12.496000-06:00",
     "start_time": "2024-06-08T00:29:12.483Z"
    }
   },
   "outputs": [
    {
     "data": {
      "text/plain": [
       "svd_update"
      ]
     },
     "execution_count": 25,
     "metadata": {},
     "output_type": "execute_result"
    }
   ],
   "source": [
    "\" environments of one or two qubit gates \"\n",
    "function environment(left_mps, right_mps, circ, i)\n",
    "    a_mps = deepcopy(left_mps)\n",
    "    b_mps = deepcopy(right_mps)\n",
    "    \n",
    "    a_circ = [(\"gate_from_mat\", g[2], (mat=conj.(g[3].mat),)) for g in circ[1:i-1]]\n",
    "    a_mps = runcircuit(a_mps, a_circ)\n",
    "    \n",
    "    b_circ = [dag(swapprime(gate(siteinds(b_mps),g), 0,1)) for g in reverse(circ[i+1:end])] # need to reverse later\n",
    "    b_mps = runcircuit(b_mps, b_circ)\n",
    "    \n",
    "    hilbert = siteinds(a_mps)\n",
    "    for loc in circ[i][2]\n",
    "        ind = hilbert[loc]\n",
    "        replaceind!(a_mps[loc], ind, prime(ind))\n",
    "    end\n",
    "    \n",
    "    env = a_mps[1] * b_mps[1] \n",
    "    for j in 2:length(hilbert)\n",
    "        env = env * a_mps[j] * b_mps[j]\n",
    "    end\n",
    "    \n",
    "    if length(circ[i][2]) == 2\n",
    "        return reshape(permutedims(array(dag(env)),[3, 1, 4, 2]),4,4) \n",
    "    else\n",
    "        return array(env)\n",
    "    end\n",
    "end\n",
    "    \n",
    "\" uses environments to update gate \"   \n",
    "function svd_update(env, circ, gate_idx)\n",
    "    U,S,V = svd(env)\n",
    "    new_gate = V * U'\n",
    "    circ[gate_idx] = (\"gate_from_mat\", circ[gate_idx][2], (mat=new_gate,))\n",
    "    return circ \n",
    "end"
   ]
  },
  {
   "cell_type": "code",
   "execution_count": null,
   "id": "e3178e98",
   "metadata": {},
   "outputs": [],
   "source": [
    "########### TEST environment ##########"
   ]
  },
  {
   "cell_type": "code",
   "execution_count": 8,
   "id": "2388847d",
   "metadata": {
    "ExecuteTime": {
     "end_time": "2024-06-07T18:19:25.895000-06:00",
     "start_time": "2024-06-08T00:18:29.170Z"
    }
   },
   "outputs": [
    {
     "data": {
      "text/plain": [
       "sqc_svd"
      ]
     },
     "execution_count": 8,
     "metadata": {},
     "output_type": "execute_result"
    }
   ],
   "source": [
    "using Flux: train!\n",
    "using ProgressMeter\n",
    "using JLD\n",
    "\n",
    "\" generates either the parameters or gates for SQC ansatz \"\n",
    "function generate_sqc_ansatz(targ_mps, n_layers, data=\"gates\")\n",
    "    params = rand(n_layers, length(targ_mps)-1, 15)\n",
    "    if data == \"gates\"\n",
    "        return kak_circuit(params)\n",
    "    else\n",
    "        return params\n",
    "    end\n",
    "end\n",
    "\n",
    "\" infidelity of static quantum circuit with targ_mps given params \"\n",
    "function sqc_cost(params, targ_mps)\n",
    "    circ = kak_circuit(params) \n",
    "    hilbert = siteinds(targ_mps)\n",
    "    return 1 - abs(inner(runcircuit(hilbert, circ), targ_mps)) # square root infidelity\n",
    "end\n",
    "\n",
    "\" infidelity of static quantum circuit with targ_mps given circ \"\n",
    "function sqc_cost(circ, targ_mps)\n",
    "    hilbert = siteinds(targ_mps)\n",
    "    return 1 - abs(inner(runcircuit(hilbert, circ), targ_mps))\n",
    "end\n",
    "\n",
    "\" gradient descent optimization of static quantum circuits \"\n",
    "function sqc_gd(targ_mps, ansatz, filename; num_sweeps=5000, eta=0.05)\n",
    "    n = length(targ_mps)\n",
    "    hilbert = siteinds(\"Qubit\", n)\n",
    "    params = ansatz\n",
    "    \n",
    "    cost_list = []\n",
    "    @showprogress for epoch in 1:num_sweeps\n",
    "        train!(sqc_cost, params, [(targ_mps,)], Descent(eta))\n",
    "        c = sqc_cost(params, targ_mps)\n",
    "        push!(cost_list, c)\n",
    "        if epoch % 100 == 0\n",
    "            println(c)\n",
    "        end    \n",
    "    end\n",
    "    save(filename, \"cost_list\", cost_list, \"params\", params)\n",
    "    return cost_list, params\n",
    "end \n",
    "\n",
    "\" training SQCs with SVD updates \"\n",
    "function sqc_svd(targ_mps, ansatz, filename; num_sweeps=500, quiet=false)\n",
    "    right_mps = deepcopy(targ_mps)\n",
    "    left_mps = siteinds(targ_mps)\n",
    "    circ = ansatz\n",
    "    \n",
    "    cost_list = []\n",
    "    @showprogress for sweep in 1:num_sweeps\n",
    "        for i in 1:length(circ)\n",
    "            env = environment(left_mps, right_mps, circ, i)\n",
    "            circ = svd_update(env, circ, i)\n",
    "        end\n",
    "        c = sqc_cost(circ, targ_mps)\n",
    "        push!(cost_list, c)\n",
    "        if !quiet\n",
    "            if sweep%50 == 0\n",
    "                println(infidelities[end])\n",
    "            end\n",
    "        end\n",
    "    end\n",
    "    save(filename, \"cost_list\", infidelities, \"circ\", circ)\n",
    "    return infidelities, circ \n",
    "end"
   ]
  },
  {
   "cell_type": "code",
   "execution_count": null,
   "id": "6d0ec6ed",
   "metadata": {},
   "outputs": [],
   "source": []
  },
  {
   "cell_type": "code",
   "execution_count": 9,
   "id": "1695941e",
   "metadata": {
    "ExecuteTime": {
     "end_time": "2024-06-07T18:19:26.476000-06:00",
     "start_time": "2024-06-08T00:18:45.411Z"
    }
   },
   "outputs": [
    {
     "data": {
      "text/plain": [
       "dqc_svd"
      ]
     },
     "execution_count": 9,
     "metadata": {},
     "output_type": "execute_result"
    }
   ],
   "source": [
    "using Dates\n",
    "\n",
    "\" generates either the parameters or gates for DQC ansatz \"\n",
    "function generate_dqc_ansatz(targ_mps, n_clusters, n_layers, data=\"gates\", post=\"Rn\", n_post_layers=0)\n",
    "    cluster_size = Int((2 * (n_clusters-1) + n) / n_clusters)\n",
    "    n_dynamic = n_clusters * cluster_size\n",
    "    \n",
    "    hilbert = siteinds(\"Qubit\", n_dynamic)\n",
    "    meas_qubits = [cluster_size*j for j in 1:n_clusters-1]\n",
    "    meas_qubits = [meas_qubits; [cluster_size*j+1 for j in 1:n_clusters-1]]\n",
    "    meas_qubits = sort(meas_qubits)\n",
    "    active_qubits = [x for x in 1:n_dynamic if !(x in meas_qubits)] \n",
    "    \n",
    "    pre_params = rand(n_layers, n_dynamic-1, 15)\n",
    "    pre_circ = kak_circuit(pre_params)\n",
    "    \n",
    "    if post == \"Rn\"\n",
    "        post_params = rand(2^length(meas_qubits), n, 3)\n",
    "        post_circ_list = [rn_layer(post_params[i,:,:], active_qubits) for i in 1:2^length(meas_qubits)]\n",
    "    else\n",
    "        post_params = rand(2^length(meas_qubits), n_post_layers, length(targ_mps)-1, 15)\n",
    "        post_circ_list = [kak_circuit(post_params[i,:,:,:], active_qubits) for i in 1:2^length(meas_qubits)]\n",
    "    end\n",
    "        \n",
    "    if data == \"gates\"\n",
    "        return (hilbert, meas_qubits, active_qubits, pre_circ, post_circ_list)\n",
    "    else\n",
    "        return (hilbert, meas_qubits, active_qubits, pre_params, post_params)\n",
    "    end\n",
    "end     \n",
    "\n",
    "\" turns target state into an ensemble corresponding to measurement outcomes \"\n",
    "function targ_ensemble(targ_mps, meas_qubits, hilbert, post_circ_list)\n",
    "    dressed_targ_mps = deepcopy(targ_mps)\n",
    "    for loc in meas_qubits\n",
    "        dressed_targ_mps = insert_zero_ket(dressed_targ_mps, loc)\n",
    "    end\n",
    "    dressed_targ_mps = rename_indices(dressed_targ_mps, hilbert)\n",
    "    \n",
    "    meas_outcomes_list = outcomes(meas_qubits)\n",
    "    ensemble = []\n",
    "    for meas_outcomes in meas_outcomes_list       \n",
    "        tmps = deepcopy(dressed_targ_mps)\n",
    "        proj_circ = [outcome == 0 ? (\"I\", loc) : (\"X\", loc) for (loc,outcome) in zip(meas_qubits, meas_outcomes)]\n",
    "        outcome_int = foldl((x, y) -> 2x + y, reverse(meas_outcomes)) + 1\n",
    "        post_circ = post_circ_list[outcome_int]\n",
    "        tmps = runcircuit(tmps, vcat(proj_circ, post_circ)) \n",
    "        push!(ensemble, tmps)\n",
    "    end\n",
    "    return ensemble\n",
    "end   \n",
    "\n",
    "\" infidelity averaged over every measurement outcome; takes parameters of kak_circuit() and rn_layer()s \"\n",
    "function dqc_cost(params, hilbert, meas_qubits, targ_mps) \n",
    "    pre_params = params[1]\n",
    "    post_params = params[2]\n",
    "    pre_circ = kak_circuit(pre_params)     \n",
    "    mps = runcircuit(hilbert, pre_circ)\n",
    "    meas_outcomes_list = outcomes(meas_qubits)\n",
    "    active_qubits = [x for x in 1:length(hilbert) if !(x in meas_qubits)] \n",
    "    renorm_list = [sqrt(probability(mps, meas_qubits, meas_outcomes)) for meas_outcomes in meas_outcomes_list]\n",
    "    post_circ_list = [rn_layer(post_params[i,:,:], active_qubits) for i in 1:2^length(meas_qubits)]\n",
    "    t_ensemble = targ_ensemble(targ_mps, meas_qubits, hilbert, post_circ_list)\n",
    "    infidelity = sum([1 - abs(inner(mps, t_mps)/renorm) for (t_mps, renorm) in zip(t_ensemble,renorm_list)])\n",
    "    return infidelity / (2^length(meas_qubits))    \n",
    "end\n",
    "\n",
    "\" infidelity averaged over every measurement outcome; takes gates of kak_circuit() and ensemble of target states \"\n",
    "function dqc_cost(pre_circ, hilbert, meas_qubits, t_ensemble)     \n",
    "    mps = runcircuit(hilbert, pre_circ)\n",
    "    meas_outcomes_list = outcomes(meas_qubits)\n",
    "    renorm_list = [sqrt(probability(mps, meas_qubits, meas_outcomes)) for meas_outcomes in meas_outcomes_list]\n",
    "    infidelity = sum([1 - abs(inner(mps, t_mps)/renorm) for (t_mps, renorm) in zip(t_ensemble,renorm_list)])\n",
    "    return infidelity / (2^length(meas_qubits))    \n",
    "end\n",
    "\n",
    "\" trains a dynamic quantum circuit with a look-up table using just gradient descent \"\n",
    "function dqc_gd(targ_mps, ansatz; num_sweeps=1000, eta=0.1)\n",
    "    (hilbert, meas_qubits, active_qubits, pre_params, post_params) = ansatz\n",
    "    params = (pre_params, post_params)\n",
    "    \n",
    "    cost_list = []\n",
    "    for epoch in 1:num_sweeps\n",
    "        train!(dqc_cost, params, [(hilbert, meas_qubits, targ_mps,)], Descent(eta))\n",
    "        c = dqc_cost(params, hilbert, meas_qubits, targ_mps)\n",
    "        push!(cost_list, c)\n",
    "        if epoch % 100 == 0\n",
    "            println(c)\n",
    "        end    \n",
    "    end\n",
    "    return cost_list, params\n",
    "end\n",
    "\n",
    "\" computes environment of a pre-measurement gate in a dynamic quantum circuit \"\n",
    "function dqc_environment(pre_circ, hilbert, meas_qubits, gate_idx, t_ensemble)   \n",
    "    mps = runcircuit(hilbert, pre_circ)\n",
    "    meas_outcomes_list = outcomes(meas_qubits)\n",
    "    renorm_list = [sqrt(probability(mps, meas_qubits, meas_outcomes)) for meas_outcomes in meas_outcomes_list]\n",
    "    env = sum([environment(hilbert, t_mps, pre_circ, gate_idx)/renorm for (t_mps,renorm) in zip(t_ensemble,renorm_list)])\n",
    "    return env\n",
    "end\n",
    "\n",
    "\" optimizes pre-measurement circuit using SVD updates \"\n",
    "function optim_pre_circ(pre_circ, hilbert, meas_qubits, t_ensemble, num_sweeps=2)\n",
    "    for sweep in 1:num_sweeps\n",
    "        for gate_idx in 1:length(pre_circ)\n",
    "            env = dqc_environment(pre_circ, hilbert, meas_qubits, gate_idx, t_ensemble)\n",
    "            pre_circ = svd_update(env, pre_circ, gate_idx)\n",
    "        end\n",
    "    end\n",
    "    return pre_circ\n",
    "end\n",
    "\n",
    "\" optimizes post-measurement circuit using SVD updates \"\n",
    "function optim_post_circ(post_circ, proj_mps, targ_mps, num_sweeps=2)\n",
    "    for sweep in 1:num_sweeps\n",
    "        for gate_idx in 1:length(post_circ)\n",
    "            env = environment(proj_mps, targ_mps, post_circ, gate_idx)\n",
    "            post_circ = svd_update(env, post_circ, gate_idx)\n",
    "        end\n",
    "    end\n",
    "    return post_circ\n",
    "end\n",
    "\n",
    "\" trains a dynamic quantum circuit using svd updates \"\n",
    "function dqc_svd(targ_mps, ansatz, filename; num_sweeps=1500)\n",
    "    start_time = now()\n",
    "    (hilbert, meas_qubits, active_qubits, pre_circ, post_circ_list) = ansatz\n",
    "    \n",
    "    cost_list = []\n",
    "    time_list = []\n",
    "    @showprogress for epoch in 1:num_sweeps\n",
    "        t_ensemble = targ_ensemble(targ_mps, meas_qubits, hilbert, post_circ_list)\n",
    "        pre_circ = optim_pre_circ(pre_circ, hilbert, meas_qubits, t_ensemble)\n",
    "        c = dqc_cost(pre_circ, hilbert, meas_qubits, t_ensemble) \n",
    "        push!(cost_list, c)\n",
    "        push!(time_list, now()-start_time)\n",
    "        \n",
    "        mps = runcircuit(hilbert, pre_circ)\n",
    "        proj_mps_list, meas_outcomes_list = all_samples(mps, meas_qubits; new_inds=siteinds(targ_mps))\n",
    "        \n",
    "        for (k,(proj_mps,post_circ)) in enumerate(zip(proj_mps_list, post_circ_list))\n",
    "            post_circ = optim_post_circ(post_circ, proj_mps, targ_mps)\n",
    "            post_circ_list[k] = optim_post_circ\n",
    "        end\n",
    "        c = dqc_cost(pre_circ, hilbert, meas_qubits, t_ensemble) \n",
    "        push!(cost_list, c)\n",
    "        push!(time_list, now()-start_time)\n",
    "        \n",
    "        if epoch%10 == 0\n",
    "            println(c)\n",
    "        end\n",
    "    end\n",
    "\n",
    "    save(filename, \"cost_list\", cost_list, \"pre_params\", pre_params, \"post_circ_list\", post_circ_list, \"time_list\", time_list)\n",
    "    return cost_list, pre_circ, post_circ_list, elapsed_time\n",
    "end"
   ]
  },
  {
   "cell_type": "code",
   "execution_count": null,
   "id": "a43138bb",
   "metadata": {},
   "outputs": [],
   "source": []
  }
 ],
 "metadata": {
  "kernelspec": {
   "display_name": "Julia 1.8.2",
   "language": "julia",
   "name": "julia-1.8"
  },
  "language_info": {
   "file_extension": ".jl",
   "mimetype": "application/julia",
   "name": "julia",
   "version": "1.8.2"
  },
  "toc": {
   "base_numbering": 1,
   "nav_menu": {},
   "number_sections": true,
   "sideBar": true,
   "skip_h1_title": false,
   "title_cell": "Table of Contents",
   "title_sidebar": "Contents",
   "toc_cell": false,
   "toc_position": {},
   "toc_section_display": true,
   "toc_window_display": false
  }
 },
 "nbformat": 4,
 "nbformat_minor": 5
}
