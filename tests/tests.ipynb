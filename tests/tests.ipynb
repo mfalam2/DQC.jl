{
 "cells": [
  {
   "cell_type": "code",
   "execution_count": 1,
   "id": "36252ecb",
   "metadata": {
    "ExecuteTime": {
     "end_time": "2024-06-16T18:24:32.566000-06:00",
     "start_time": "2024-06-17T00:23:07.899Z"
    }
   },
   "outputs": [
    {
     "data": {
      "text/plain": [
       "dqc_svd"
      ]
     },
     "execution_count": 1,
     "metadata": {},
     "output_type": "execute_result"
    }
   ],
   "source": [
    "include(\"/Users/alamf/1Jupyter/current_projects/DQC.jl/src/models.jl\")\n",
    "include(\"/Users/alamf/1Jupyter/current_projects/DQC.jl/src/train_sqc.jl\")\n",
    "include(\"/Users/alamf/1Jupyter/current_projects/DQC.jl/src/train_dqc.jl\")"
   ]
  },
  {
   "cell_type": "code",
   "execution_count": 2,
   "id": "c43b6bde",
   "metadata": {
    "ExecuteTime": {
     "end_time": "2024-06-16T18:07:15.345000-06:00",
     "start_time": "2024-06-17T00:04:54.255Z"
    }
   },
   "outputs": [
    {
     "name": "stdout",
     "output_type": "stream",
     "text": [
      "8.441528768080324e-17\n",
      "0.0\n"
     ]
    }
   ],
   "source": [
    "n = 2\n",
    "circ = rn_layer(rand(n,3), 1:n)\n",
    "hilbert = siteinds(\"Qubit\", n)\n",
    "mps = MPS(hilbert, [1,1])\n",
    "\n",
    "# run works as expected\n",
    "println(norm(mps_to_vec(run(mps, circ)) - kron(circ[2][3].mat, circ[1][3].mat) * [1,0,0,0]))\n",
    "\n",
    "# run with cc = true works as expected\n",
    "println(norm(mps_to_vec(run(mps, circ; cc=true)) - kron(circ[2][3].mat', circ[1][3].mat') * [1,0,0,0]))"
   ]
  },
  {
   "cell_type": "code",
   "execution_count": 3,
   "id": "270d6077",
   "metadata": {
    "ExecuteTime": {
     "end_time": "2024-06-16T18:07:32.988000-06:00",
     "start_time": "2024-06-17T00:04:54.410Z"
    }
   },
   "outputs": [
    {
     "name": "stdout",
     "output_type": "stream",
     "text": [
      "-9.71445146547012e-17 - 1.1102230246251565e-16im\n",
      "5.551115123125783e-17 + 0.0im\n",
      "5.551115123125783e-17 + 0.0im\n"
     ]
    }
   ],
   "source": [
    "n = 4\n",
    "circ = rn_layer(rand(n,3), 1:n)\n",
    "hilbert = siteinds(\"Qubit\", n)\n",
    "mps_a = randomMPS(hilbert;linkdims=2)\n",
    "mps_b = randomMPS(hilbert;linkdims=2);\n",
    "\n",
    "# cc = true works as expected \n",
    "overlap = inner(run(mps_b, []; cc=true), run(mps_a, circ))\n",
    "println(overlap - inner(run(mps_b, circ; cc=true), run(mps_a, [])))\n",
    "println(overlap - inner(run(mps_b, circ[4:4]; cc=true), run(mps_a, circ[1:3])))\n",
    "\n",
    "# contract_all works as expected \n",
    "mps_e, mps_f = run(mps_b, circ[4:4]; cc=true), run(mps_a, circ[1:3])\n",
    "println(overlap - contract_all(conj.(mps_e), mps_f)[1])"
   ]
  },
  {
   "cell_type": "code",
   "execution_count": 4,
   "id": "5d693ef1",
   "metadata": {
    "ExecuteTime": {
     "end_time": "2024-06-16T18:07:45.759000-06:00",
     "start_time": "2024-06-17T00:04:54.583Z"
    }
   },
   "outputs": [
    {
     "name": "stdout",
     "output_type": "stream",
     "text": [
      "8.326672684688674e-17 - 5.551115123125783e-17im\n",
      "5.551115123125783e-17 + 0.0im\n",
      "1.3877787807814457e-16 + 5.551115123125783e-17im\n",
      "5.551115123125783e-17 + 2.7755575615628914e-17im\n"
     ]
    }
   ],
   "source": [
    "# testing 1 qubit environments\n",
    "\n",
    "n = 4\n",
    "circ = rn_layer(rand(n,3), 1:n)\n",
    "hilbert = siteinds(\"Qubit\", n)\n",
    "left_mps = randomMPS(hilbert;linkdims=2)\n",
    "right_mps = randomMPS(hilbert;linkdims=2)\n",
    "overlap = inner(right_mps, runcircuit(left_mps, circ))\n",
    "\n",
    "for i in 1:length(circ)\n",
    "    env = environment(left_mps, right_mps, circ, i)\n",
    "    println(tr(env * circ[i][3].mat) - overlap)\n",
    "end"
   ]
  },
  {
   "cell_type": "code",
   "execution_count": 5,
   "id": "8cb652ed",
   "metadata": {
    "ExecuteTime": {
     "end_time": "2024-06-16T18:08:31.148000-06:00",
     "start_time": "2024-06-17T00:04:54.757Z"
    }
   },
   "outputs": [
    {
     "name": "stdout",
     "output_type": "stream",
     "text": [
      "-1.214306433183765e-17 - 1.3877787807814457e-16im\n",
      "-1.457167719820518e-16 - 1.3877787807814457e-16im\n",
      "-3.469446951953614e-17 - 1.942890293094024e-16im\n",
      "-2.7755575615628914e-17 - 1.942890293094024e-16im\n",
      "3.469446951953614e-18 - 1.942890293094024e-16im\n",
      "-6.245004513516506e-17 - 1.249000902703301e-16im\n"
     ]
    }
   ],
   "source": [
    "# testing 2 qubit environments\n",
    "\n",
    "n = 4\n",
    "circ = kak_circuit(rand(2,n-1,15))\n",
    "hilbert = siteinds(\"Qubit\", n)\n",
    "left_mps = randomMPS(hilbert;linkdims=2)\n",
    "right_mps = randomMPS(hilbert;linkdims=2)\n",
    "overlap = inner(right_mps, runcircuit(left_mps, circ))\n",
    "\n",
    "for i in 1:length(circ)\n",
    "    env = environment(left_mps, right_mps, circ, i)\n",
    "    println(tr(env * circ[i][3].mat) - overlap)\n",
    "end"
   ]
  },
  {
   "cell_type": "code",
   "execution_count": 6,
   "id": "271df11e",
   "metadata": {
    "ExecuteTime": {
     "end_time": "2024-06-16T18:08:35.596000-06:00",
     "start_time": "2024-06-17T00:04:54.929Z"
    }
   },
   "outputs": [
    {
     "name": "stdout",
     "output_type": "stream",
     "text": [
      "-6.245004513516506e-17 - 9.71445146547012e-17im\n",
      "-9.020562075079397e-17 - 1.249000902703301e-16im\n",
      "-7.632783294297951e-17 - 7.632783294297951e-17im\n",
      "-4.85722573273506e-17 - 4.85722573273506e-17im\n",
      "6.938893903907228e-18 + 1.3877787807814457e-17im\n",
      "1.3877787807814457e-17 + 1.3877787807814457e-17im\n"
     ]
    }
   ],
   "source": [
    "# testing environments with dressed MPSs\n",
    "n = 6\n",
    "circ = rn_layer(rand(n,3), 1:n)\n",
    "hilbert = siteinds(\"Qubit\", n)\n",
    "left_mps = randomMPS(hilbert;linkdims=2)\n",
    "\n",
    "right_mps = randomMPS(siteinds(\"Qubit\", 4);linkdims=2)\n",
    "for loc in [3,4]\n",
    "    right_mps = insert_zero_ket(right_mps, loc)\n",
    "end\n",
    "right_mps = rename_indices(right_mps, hilbert)\n",
    "overlap = inner(right_mps, runcircuit(left_mps, circ))\n",
    "\n",
    "for i in 1:length(circ)\n",
    "    env = environment(left_mps, right_mps, circ, i)\n",
    "    println(tr(env * circ[i][3].mat) - overlap)\n",
    "end"
   ]
  },
  {
   "cell_type": "code",
   "execution_count": 7,
   "id": "9e348570",
   "metadata": {
    "ExecuteTime": {
     "end_time": "2024-06-16T18:08:35.687000-06:00",
     "start_time": "2024-06-17T00:04:55.278Z"
    }
   },
   "outputs": [
    {
     "name": "stdout",
     "output_type": "stream",
     "text": [
      "0.004678043899542321\n",
      "0.010605707978334268\n",
      "\n",
      "0.010605707978334267\n",
      "0.01285102956771538\n",
      "\n",
      "0.012851029567715397\n",
      "0.02743170001623792\n",
      "\n",
      "0.02743170001623795\n",
      "0.11489896947336468\n",
      "\n",
      "0.11489896947336464\n",
      "0.33483002589959115\n",
      "\n",
      "0.33483002589959143\n",
      "0.4783336145047447\n",
      "\n"
     ]
    }
   ],
   "source": [
    "# testing SVD updates\n",
    "for i in 1:length(circ)\n",
    "    env = environment(left_mps, right_mps, circ, i)\n",
    "    println(abs2(tr(env * circ[i][3].mat)))\n",
    "\n",
    "    new_circ = svd_update(env, circ, i)\n",
    "    env = environment(left_mps, right_mps, new_circ, i)\n",
    "    println(abs2(tr(env * circ[i][3].mat)))\n",
    "    println(\"\")\n",
    "end"
   ]
  },
  {
   "cell_type": "code",
   "execution_count": 8,
   "id": "6d0ec6ed",
   "metadata": {
    "ExecuteTime": {
     "end_time": "2024-06-16T18:09:34.035000-06:00",
     "start_time": "2024-06-17T00:04:55.666Z"
    }
   },
   "outputs": [
    {
     "name": "stderr",
     "output_type": "stream",
     "text": [
      "\u001b[32mProgress:  49%|█████████████████████                    |  ETA: 0:00:07\u001b[39m"
     ]
    },
    {
     "name": "stdout",
     "output_type": "stream",
     "text": [
      "0.06414189831862382"
     ]
    },
    {
     "name": "stderr",
     "output_type": "stream",
     "text": [
      "\r",
      "\u001b[32mProgress:  51%|█████████████████████                    |  ETA: 0:00:07\u001b[39m"
     ]
    },
    {
     "name": "stdout",
     "output_type": "stream",
     "text": [
      "\n"
     ]
    },
    {
     "name": "stderr",
     "output_type": "stream",
     "text": [
      "\u001b[32mProgress: 100%|█████████████████████████████████████████| Time: 0:00:10\u001b[39m39m\n"
     ]
    },
    {
     "name": "stdout",
     "output_type": "stream",
     "text": [
      "0.06414189831862394\n"
     ]
    }
   ],
   "source": [
    "# testing training of static circuit\n",
    "n = 8\n",
    "targ_mps = tfim_gs(n)\n",
    "n_layers = 1\n",
    "ansatz = generate_sqc_ansatz(targ_mps, n_layers; data=\"gates\")\n",
    "filename = \"debug.jld\"\n",
    "cost_list, circ = sqc_svd(targ_mps, ansatz, filename; num_sweeps=100, quiet=false);"
   ]
  },
  {
   "cell_type": "code",
   "execution_count": 2,
   "id": "a43138bb",
   "metadata": {
    "ExecuteTime": {
     "end_time": "2024-06-16T18:20:24.991000-06:00",
     "start_time": "2024-06-17T00:17:13.205Z"
    }
   },
   "outputs": [],
   "source": [
    "n = 4\n",
    "targ_mps = tfim_gs(n)\n",
    "n_layers = 1\n",
    "n_clusters = 2\n",
    "ansatz = generate_dqc_ansatz(targ_mps, n_clusters, n_layers)\n",
    "(hilbert, meas_qubits, active_qubits, pre_circ, post_circ_list) = ansatz\n",
    "t_ensemble = targ_ensemble(targ_mps, meas_qubits, hilbert, post_circ_list);"
   ]
  },
  {
   "cell_type": "code",
   "execution_count": 3,
   "id": "680fe392",
   "metadata": {
    "ExecuteTime": {
     "end_time": "2024-06-16T18:21:15.596000-06:00",
     "start_time": "2024-06-17T00:17:13.377Z"
    }
   },
   "outputs": [
    {
     "name": "stdout",
     "output_type": "stream",
     "text": [
      "[0.6320373123214988, 0.8295035847306174]\n",
      "[0.6320373123214988, 0.8295035847306174]\n",
      "[0.6320373123214988, 0.8295035847306174]\n",
      "[0.6320373123214988, 0.8295035847306176]\n",
      "[0.6320373123214988, 0.8295035847306176]\n"
     ]
    }
   ],
   "source": [
    "# testing dqc_cost and dqc_environment\n",
    "c = dqc_cost(pre_circ, hilbert, meas_qubits, t_ensemble) \n",
    "for gate_idx in 1:length(pre_circ)\n",
    "    dqc_env = dqc_environment(pre_circ, hilbert, meas_qubits, gate_idx, t_ensemble)\n",
    "    c_bound = (4 - abs(tr(dqc_env * pre_circ[gate_idx][3].mat)))/4\n",
    "    println([c,c_bound])\n",
    "end"
   ]
  },
  {
   "cell_type": "code",
   "execution_count": 4,
   "id": "ee7a6478",
   "metadata": {
    "ExecuteTime": {
     "end_time": "2024-06-16T18:21:16.115000-06:00",
     "start_time": "2024-06-17T00:17:13.551Z"
    }
   },
   "outputs": [
    {
     "name": "stdout",
     "output_type": "stream",
     "text": [
      "(0.6320373123214988, 0.07504872126371984)\n"
     ]
    }
   ],
   "source": [
    "# testing optim_pre_circ \n",
    "old_c = dqc_cost(pre_circ, hilbert, meas_qubits, t_ensemble) \n",
    "pre_circ = optim_pre_circ(pre_circ, hilbert, meas_qubits, t_ensemble)\n",
    "new_c = dqc_cost(pre_circ, hilbert, meas_qubits, t_ensemble) \n",
    "println((old_c, new_c))"
   ]
  },
  {
   "cell_type": "code",
   "execution_count": 5,
   "id": "5114179d",
   "metadata": {
    "ExecuteTime": {
     "end_time": "2024-06-16T18:21:22.357000-06:00",
     "start_time": "2024-06-17T00:17:13.717Z"
    }
   },
   "outputs": [
    {
     "name": "stdout",
     "output_type": "stream",
     "text": [
      "0.06572429298357876\n",
      "0.0528243203675447\n",
      "0.04715902052949775\n",
      "0.034029025687655506\n"
     ]
    }
   ],
   "source": [
    "# testing optim_post_circ\n",
    "mps = runcircuit(hilbert, pre_circ)\n",
    "proj_mps_list, meas_outcomes_list = all_samples(mps, meas_qubits; new_inds=siteinds(targ_mps))\n",
    "\n",
    "for i in 1:4\n",
    "    post_circ_list[i] = optim_post_circ(post_circ_list[i], proj_mps_list[i], targ_mps, active_qubits)\n",
    "    t_ensemble = targ_ensemble(targ_mps, meas_qubits, hilbert, post_circ_list)\n",
    "    c = dqc_cost(pre_circ, hilbert, meas_qubits, t_ensemble) \n",
    "    println(c)\n",
    "end"
   ]
  },
  {
   "cell_type": "code",
   "execution_count": 3,
   "id": "608a53b3",
   "metadata": {
    "ExecuteTime": {
     "end_time": "2024-06-16T18:31:16.803000-06:00",
     "start_time": "2024-06-17T00:30:59.114Z"
    }
   },
   "outputs": [
    {
     "name": "stderr",
     "output_type": "stream",
     "text": [
      "\u001b[32mProgress:  20%|█████████                                |  ETA: 0:00:14\u001b[39m"
     ]
    },
    {
     "name": "stdout",
     "output_type": "stream",
     "text": [
      "0.012424018646322949\n"
     ]
    },
    {
     "name": "stderr",
     "output_type": "stream",
     "text": [
      "\u001b[32mProgress:  40%|█████████████████                        |  ETA: 0:00:10\u001b[39m"
     ]
    },
    {
     "name": "stdout",
     "output_type": "stream",
     "text": [
      "0.011671405475608632\n"
     ]
    },
    {
     "name": "stderr",
     "output_type": "stream",
     "text": [
      "\u001b[32mProgress:  60%|█████████████████████████                |  ETA: 0:00:07\u001b[39m"
     ]
    },
    {
     "name": "stdout",
     "output_type": "stream",
     "text": [
      "0.011334763577059037\n"
     ]
    },
    {
     "name": "stderr",
     "output_type": "stream",
     "text": [
      "\u001b[32mProgress:  80%|█████████████████████████████████        |  ETA: 0:00:04\u001b[39m"
     ]
    },
    {
     "name": "stdout",
     "output_type": "stream",
     "text": [
      "0.011203477360536868\n"
     ]
    },
    {
     "name": "stderr",
     "output_type": "stream",
     "text": [
      "\u001b[32mProgress: 100%|█████████████████████████████████████████| Time: 0:00:17\u001b[39m\n"
     ]
    },
    {
     "name": "stdout",
     "output_type": "stream",
     "text": [
      "0.011155448534124202\n"
     ]
    }
   ],
   "source": [
    "# testing dqc_svd\n",
    "n = 4\n",
    "targ_mps = tfim_gs(n)\n",
    "n_layers = 1\n",
    "n_clusters = 2\n",
    "ansatz = generate_dqc_ansatz(targ_mps, n_clusters, n_layers)\n",
    "filename = \"debug.jld\"\n",
    "cost_list, pre_circ, post_circ_list, elapsed_time = dqc_svd(targ_mps, ansatz, filename; num_sweeps=50);"
   ]
  },
  {
   "cell_type": "code",
   "execution_count": null,
   "id": "3d42fec3",
   "metadata": {},
   "outputs": [],
   "source": []
  }
 ],
 "metadata": {
  "kernelspec": {
   "display_name": "Julia 1.8.2",
   "language": "julia",
   "name": "julia-1.8"
  },
  "language_info": {
   "file_extension": ".jl",
   "mimetype": "application/julia",
   "name": "julia",
   "version": "1.8.2"
  },
  "toc": {
   "base_numbering": 1,
   "nav_menu": {},
   "number_sections": true,
   "sideBar": true,
   "skip_h1_title": false,
   "title_cell": "Table of Contents",
   "title_sidebar": "Contents",
   "toc_cell": false,
   "toc_position": {},
   "toc_section_display": true,
   "toc_window_display": false
  }
 },
 "nbformat": 4,
 "nbformat_minor": 5
}
